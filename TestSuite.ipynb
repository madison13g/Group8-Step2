{
 "cells": [
  {
   "cell_type": "code",
   "execution_count": 1,
   "id": "5a9f30a6",
   "metadata": {},
   "outputs": [
    {
     "name": "stderr",
     "output_type": "stream",
     "text": [
      "........\n",
      "----------------------------------------------------------------------\n",
      "Ran 8 tests in 0.020s\n",
      "\n",
      "OK\n"
     ]
    },
    {
     "name": "stdout",
     "output_type": "stream",
     "text": [
      "set up Admin\n",
      "Testing finished\n",
      "Testing finished\n",
      "tear down Admin\n",
      "set up Post\n",
      "Testing finished\n",
      "Testing finished\n",
      "tear down Post\n",
      "set up Topic\n",
      "Testing finished\n",
      "Testing finished\n",
      "tear down Topic\n",
      "set up User\n",
      "Testing finished\n",
      "Testing finished\n",
      "tear down User\n",
      "<unittest.runner.TextTestResult run=8 errors=0 failures=0>\n"
     ]
    }
   ],
   "source": [
    "import unittest\n",
    "from TestAdministrator import *\n",
    "from TestPost import *\n",
    "from TestTopic import *\n",
    "from TestUser import *\n",
    "\n",
    "def my_suite():\n",
    "    suite = unittest.TestSuite()\n",
    "    result = unittest.TestResult()\n",
    "    suite.addTest(unittest.makeSuite(TestAdmin))\n",
    "    suite.addTest(unittest.makeSuite(TestPost))\n",
    "    suite.addTest(unittest.makeSuite(TestTopic))\n",
    "    suite.addTest(unittest.makeSuite(TestUser))\n",
    "    runner = unittest.TextTestRunner()\n",
    "    print(runner.run(suite))\n",
    "my_suite()"
   ]
  },
  {
   "cell_type": "code",
   "execution_count": null,
   "id": "ad2255c8",
   "metadata": {},
   "outputs": [],
   "source": []
  }
 ],
 "metadata": {
  "kernelspec": {
   "display_name": "Python 3 (ipykernel)",
   "language": "python",
   "name": "python3"
  },
  "language_info": {
   "codemirror_mode": {
    "name": "ipython",
    "version": 3
   },
   "file_extension": ".py",
   "mimetype": "text/x-python",
   "name": "python",
   "nbconvert_exporter": "python",
   "pygments_lexer": "ipython3",
   "version": "3.9.12"
  }
 },
 "nbformat": 4,
 "nbformat_minor": 5
}
