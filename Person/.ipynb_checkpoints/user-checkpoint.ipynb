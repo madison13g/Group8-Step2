{
 "cells": [
  {
   "cell_type": "code",
   "execution_count": 51,
   "id": "0f43d593",
   "metadata": {},
   "outputs": [
    {
     "ename": "IndentationError",
     "evalue": "expected an indented block (2945081604.py, line 54)",
     "output_type": "error",
     "traceback": [
      "\u001b[1;36m  Input \u001b[1;32mIn [51]\u001b[1;36m\u001b[0m\n\u001b[1;33m    def searchFlagInPost(self, flagged_keyword):\u001b[0m\n\u001b[1;37m                                                ^\u001b[0m\n\u001b[1;31mIndentationError\u001b[0m\u001b[1;31m:\u001b[0m expected an indented block\n"
     ]
    }
   ],
   "source": [
    "class User():\n",
    "    \n",
    "    #counter\n",
    "    userCount = 0 \n",
    "    \n",
    "    # store all current users\n",
    "    users = [] \n",
    "    \n",
    "    def __init__(self, user, password):\n",
    "        self.user = user\n",
    "        self._password = password # password is private \n",
    "        #print('Username: {}'.format(self.user))\n",
    "        User.userCount += 1\n",
    "        \n",
    "    def displayUser(self):\n",
    "        print('Username: {}'.format(self.user))\n",
    "    \n",
    "        # login prompt when opening the package\n",
    "        \n",
    "        # function to create new account (as selected option in prompt if no username & pw existing)\n",
    "        \n",
    "        # change password\n",
    "    @property\n",
    "    def password(self):\n",
    "        return self._password\n",
    "    @password.setter\n",
    "    def password(self, value):\n",
    "        self._password = value\n",
    "                \n",
    "            \n",
    "        \n",
    "from post import Post        \n",
    "class Admin(User):\n",
    "    def __init__(self, user, password, admincode):\n",
    "        User.__init__(self, user, password)\n",
    "        self.admincode = admincode\n",
    "        \n",
    "    def displayUser(self):\n",
    "        User.displayUser(self)\n",
    "        print('Username: {}, Admin code: {}'.format(self.user, self.admincode))\n",
    "        \n",
    "    # check number of users\n",
    "    def displayCount(self):\n",
    "        print(\"Total Users %d\" % User.userCount)\n",
    "    \n",
    "    # delete any user\n",
    "    def __del__(self, other):  # admin can do del ObjectName and it will print 'deleted'\n",
    "        print(\"{} deleted a user with username: {}\".format(self.user, other.user))  \n",
    "    \n",
    "    # search for flagged content in posts (must have from post import post)\n",
    "    def searchFlagInPost(self, flagged_keyword):\n",
    "        "
   ]
  },
  {
   "cell_type": "code",
   "execution_count": 50,
   "id": "4e98f5a9",
   "metadata": {},
   "outputs": [
    {
     "name": "stderr",
     "output_type": "stream",
     "text": [
      "Exception ignored in: <function Admin.__del__ at 0x0000024BAFFFA940>\n",
      "Traceback (most recent call last):\n",
      "  File \"C:\\Users\\madis\\AppData\\Local\\Temp\\ipykernel_21684\\2050386715.py\", line 6, in <cell line: 6>\n",
      "TypeError: __del__() missing 1 required positional argument: 'other'\n"
     ]
    },
    {
     "name": "stdout",
     "output_type": "stream",
     "text": [
      "madison13g\n",
      "Username: madison13g\n",
      "Username: amethyst1016\n",
      "Username: Dan\n",
      "Username: Dan, Admin code: A1\n",
      "Total Users 3\n"
     ]
    },
    {
     "ename": "NameError",
     "evalue": "name 'user1' is not defined",
     "output_type": "error",
     "traceback": [
      "\u001b[1;31m---------------------------------------------------------------------------\u001b[0m",
      "\u001b[1;31mNameError\u001b[0m                                 Traceback (most recent call last)",
      "Input \u001b[1;32mIn [50]\u001b[0m, in \u001b[0;36m<cell line: 10>\u001b[1;34m()\u001b[0m\n\u001b[0;32m      8\u001b[0m admin1\u001b[38;5;241m.\u001b[39mdisplayCount()\n\u001b[0;32m      9\u001b[0m \u001b[38;5;28;01mdel\u001b[39;00m user1\n\u001b[1;32m---> 10\u001b[0m \u001b[43muser1\u001b[49m\u001b[38;5;241m.\u001b[39mdisplayUser()\n",
      "\u001b[1;31mNameError\u001b[0m: name 'user1' is not defined"
     ]
    }
   ],
   "source": [
    "user1 = User('madison13g', 'password1')\n",
    "user2 = User('amethyst1016', 'password2')\n",
    "print(user1.user)\n",
    "user1.displayUser()\n",
    "user2.displayUser()\n",
    "admin1 = Admin('Dan', 'password3', 'A1')\n",
    "admin1.displayUser()\n",
    "admin1.displayCount()\n",
    "del user1\n",
    "user1.displayUser()"
   ]
  },
  {
   "cell_type": "code",
   "execution_count": null,
   "id": "e53ad7e0",
   "metadata": {},
   "outputs": [],
   "source": []
  }
 ],
 "metadata": {
  "kernelspec": {
   "display_name": "Python 3 (ipykernel)",
   "language": "python",
   "name": "python3"
  },
  "language_info": {
   "codemirror_mode": {
    "name": "ipython",
    "version": 3
   },
   "file_extension": ".py",
   "mimetype": "text/x-python",
   "name": "python",
   "nbconvert_exporter": "python",
   "pygments_lexer": "ipython3",
   "version": "3.9.12"
  }
 },
 "nbformat": 4,
 "nbformat_minor": 5
}
