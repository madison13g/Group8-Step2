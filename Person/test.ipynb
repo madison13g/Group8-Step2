{
 "cells": [
  {
   "cell_type": "code",
   "execution_count": 1,
   "id": "c5a5a695",
   "metadata": {},
   "outputs": [
    {
     "name": "stdout",
     "output_type": "stream",
     "text": [
      "madison13g\n",
      "Username: madison13g\n",
      "Username: amethyst1016\n"
     ]
    },
    {
     "ename": "NameError",
     "evalue": "name 'Admin' is not defined",
     "output_type": "error",
     "traceback": [
      "\u001b[1;31m---------------------------------------------------------------------------\u001b[0m",
      "\u001b[1;31mNameError\u001b[0m                                 Traceback (most recent call last)",
      "Input \u001b[1;32mIn [1]\u001b[0m, in \u001b[0;36m<cell line: 10>\u001b[1;34m()\u001b[0m\n\u001b[0;32m      8\u001b[0m user1\u001b[38;5;241m.\u001b[39mdisplayUser()\n\u001b[0;32m      9\u001b[0m user2\u001b[38;5;241m.\u001b[39mdisplayUser()\n\u001b[1;32m---> 10\u001b[0m admin1 \u001b[38;5;241m=\u001b[39m \u001b[43mAdmin\u001b[49m(\u001b[38;5;124m'\u001b[39m\u001b[38;5;124mDan\u001b[39m\u001b[38;5;124m'\u001b[39m, \u001b[38;5;124m'\u001b[39m\u001b[38;5;124mpassword3\u001b[39m\u001b[38;5;124m'\u001b[39m, \u001b[38;5;124m'\u001b[39m\u001b[38;5;124mA1\u001b[39m\u001b[38;5;124m'\u001b[39m)\n\u001b[0;32m     11\u001b[0m admin1\u001b[38;5;241m.\u001b[39mdisplayUser()\n\u001b[0;32m     12\u001b[0m admin1\u001b[38;5;241m.\u001b[39mdisplayCount()\n",
      "\u001b[1;31mNameError\u001b[0m: name 'Admin' is not defined"
     ]
    }
   ],
   "source": [
    "from user import *\n",
    "\n",
    "#from administrator import *\n",
    "\n",
    "user1 = User('madison13g', 'password1')\n",
    "user2 = User('amethyst1016', 'password2')\n",
    "print(user1.user)\n",
    "user1.displayUser()\n",
    "user2.displayUser()\n",
    "admin1 = Admin('Dan', 'password3', 'A1')\n",
    "admin1.displayUser()\n",
    "admin1.displayCount()\n",
    "del user1\n",
    "user1.displayUser()"
   ]
  },
  {
   "cell_type": "code",
   "execution_count": null,
   "id": "bdc1b418",
   "metadata": {},
   "outputs": [],
   "source": [
    "user2.exist()"
   ]
  },
  {
   "cell_type": "code",
   "execution_count": null,
   "id": "5a6ce3ae",
   "metadata": {},
   "outputs": [],
   "source": [
    "admin1.userlist()"
   ]
  },
  {
   "cell_type": "code",
   "execution_count": null,
   "id": "aaebafb3",
   "metadata": {},
   "outputs": [],
   "source": [
    "user1.displayUser()"
   ]
  },
  {
   "cell_type": "code",
   "execution_count": null,
   "id": "99f68c69",
   "metadata": {},
   "outputs": [],
   "source": []
  }
 ],
 "metadata": {
  "kernelspec": {
   "display_name": "Python 3 (ipykernel)",
   "language": "python",
   "name": "python3"
  },
  "language_info": {
   "codemirror_mode": {
    "name": "ipython",
    "version": 3
   },
   "file_extension": ".py",
   "mimetype": "text/x-python",
   "name": "python",
   "nbconvert_exporter": "python",
   "pygments_lexer": "ipython3",
   "version": "3.9.12"
  }
 },
 "nbformat": 4,
 "nbformat_minor": 5
}
