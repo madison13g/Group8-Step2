{
 "cells": [
  {
   "cell_type": "code",
   "execution_count": null,
   "id": "2b7fb4a3",
   "metadata": {},
   "outputs": [],
   "source": [
    "from user import User\n",
    "\n",
    "class Administrator(User):\n",
    "    def __init__(self, user, password, admincode):\n",
    "        User.__init__(self, user, password)\n",
    "        self.admincode = admincode\n",
    "        \n",
    "    def display(self):\n",
    "        User.display(self)\n",
    "        print('Admin code: {}'.format(self.admincode))\n",
    "        \n",
    "    # check number of users\n",
    "    \n",
    "    # delete any user\n",
    "    def __del__(self):\n",
    "...         print \"deleted\"  # admin can do del ObjectName and it will print 'deleted'\n",
    "    \n",
    "    # search for flagged content in posts (must have from post import post)"
   ]
  },
  {
   "cell_type": "code",
   "execution_count": null,
   "id": "dfdcef23",
   "metadata": {},
   "outputs": [],
   "source": []
  }
 ],
 "metadata": {
  "kernelspec": {
   "display_name": "Python 3 (ipykernel)",
   "language": "python",
   "name": "python3"
  },
  "language_info": {
   "codemirror_mode": {
    "name": "ipython",
    "version": 3
   },
   "file_extension": ".py",
   "mimetype": "text/x-python",
   "name": "python",
   "nbconvert_exporter": "python",
   "pygments_lexer": "ipython3",
   "version": "3.9.12"
  }
 },
 "nbformat": 4,
 "nbformat_minor": 5
}
