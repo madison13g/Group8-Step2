{
 "cells": [
  {
   "cell_type": "code",
   "execution_count": 2,
   "id": "7624a3c2",
   "metadata": {},
   "outputs": [
    {
     "name": "stderr",
     "output_type": "stream",
     "text": [
      "test_displayCount (__main__.TestAdmin) ... ok\n",
      "test_displayUser (__main__.TestAdmin) ... ok\n",
      "\n",
      "----------------------------------------------------------------------\n",
      "Ran 2 tests in 0.064s\n",
      "\n",
      "OK\n"
     ]
    },
    {
     "name": "stdout",
     "output_type": "stream",
     "text": [
      "set up Admin\n",
      "Testing finished\n",
      "Testing finished\n",
      "tear down Admin\n"
     ]
    },
    {
     "data": {
      "text/plain": [
       "<unittest.main.TestProgram at 0x7fd784bdd880>"
      ]
     },
     "execution_count": 2,
     "metadata": {},
     "output_type": "execute_result"
    }
   ],
   "source": [
    "import unittest\n",
    "from Person.administrator import *\n",
    "\n",
    "class TestAdmin(unittest.TestCase):\n",
    "    @classmethod\n",
    "    def setUpClass(Admin):\n",
    "        print('set up Admin')\n",
    "    \n",
    "    def setUp(self):\n",
    "        self.t1 = Admin('amanatullah', 'TA533', 'A13')\n",
    "        self.t2 = Admin('Dan', 'password3', 'A1')\n",
    "        \n",
    "    def test_displayUser(self):\n",
    "        self.assertEqual(self.t1.displayUser(), 'Username: amanatullah Admin code: A13')\n",
    "        self.assertEqual(self.t2.displayUser(), 'Username: Dan Admin code: A1')\n",
    "        self.assertIsNotNone(self.t1.displayUser)\n",
    "        self.assertIsNotNone(self.t2.displayUser)\n",
    "    \n",
    "    def test_displayCount(self):\n",
    "        self.assertEqual(self.t1.displayCount(), 'There are 17 users')\n",
    "        self.assertEqual(self.t2.displayCount(), 'There are 17 users')\n",
    "        self.assertIsNotNone(self.t1.displayCount)\n",
    "        self.assertIsNotNone(self.t2.displayCount)\n",
    "        \n",
    "    def tearDown(self):\n",
    "        print('Testing finished')\n",
    "        \n",
    "    @classmethod\n",
    "    def tearDownClass(Post):\n",
    "        print('tear down Admin')\n",
    "        \n",
    "unittest.main(argv=[''], verbosity=2, exit=False)"
   ]
  },
  {
   "cell_type": "code",
   "execution_count": null,
   "id": "b57d567e",
   "metadata": {},
   "outputs": [],
   "source": []
  }
 ],
 "metadata": {
  "kernelspec": {
   "display_name": "Python 3 (ipykernel)",
   "language": "python",
   "name": "python3"
  },
  "language_info": {
   "codemirror_mode": {
    "name": "ipython",
    "version": 3
   },
   "file_extension": ".py",
   "mimetype": "text/x-python",
   "name": "python",
   "nbconvert_exporter": "python",
   "pygments_lexer": "ipython3",
   "version": "3.9.12"
  }
 },
 "nbformat": 4,
 "nbformat_minor": 5
}
