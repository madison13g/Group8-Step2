{
 "cells": [
  {
   "cell_type": "code",
   "execution_count": 8,
   "id": "079310a9",
   "metadata": {},
   "outputs": [
    {
     "name": "stderr",
     "output_type": "stream",
     "text": [
      "test_displayUser (__main__.TestUser) ... ok\n",
      "test_password (__main__.TestUser) ... ok\n",
      "\n",
      "----------------------------------------------------------------------\n",
      "Ran 2 tests in 0.045s\n",
      "\n",
      "OK\n"
     ]
    },
    {
     "name": "stdout",
     "output_type": "stream",
     "text": [
      "set up User\n",
      "Testing finished\n",
      "Testing finished\n",
      "tear down User\n"
     ]
    },
    {
     "data": {
      "text/plain": [
       "<unittest.main.TestProgram at 0x7fd9bbd14130>"
      ]
     },
     "execution_count": 8,
     "metadata": {},
     "output_type": "execute_result"
    }
   ],
   "source": [
    "import unittest\n",
    "from Person.user import *\n",
    "\n",
    "class TestUser(unittest.TestCase):\n",
    "    @classmethod\n",
    "    def setUpClass(User):\n",
    "        print('set up User')\n",
    "    \n",
    "    def setUp(self):\n",
    "        self.t1 = User('madison13g', 'password1')\n",
    "        self.t2 = User('amethyst1016', 'password2')\n",
    "        \n",
    "    def test_displayUser(self):\n",
    "        self.assertEqual(self.t1.displayUser(), 'Username: madison13g')\n",
    "        self.assertEqual(self.t2.displayUser(), 'Username: amethyst1016')\n",
    "        self.assertIsNotNone(self.t1.displayUser)\n",
    "        self.assertIsNotNone(self.t2.displayUser)\n",
    "        \n",
    "    def test_password(self):\n",
    "        self.t1.password = 'password123'\n",
    "        self.t2.password = 'password123'\n",
    "        self.assertEqual(self.t1.password, 'password123')\n",
    "        self.assertEqual(self.t2.password, 'password123')\n",
    "        self.assertIsNotNone(self.t1.password)\n",
    "        self.assertIsNotNone(self.t2.password)\n",
    "        \n",
    "    def tearDown(self):\n",
    "        print('Testing finished')\n",
    "        \n",
    "    @classmethod\n",
    "    def tearDownClass(Post):\n",
    "        print('tear down User')\n",
    "        \n",
    "unittest.main(argv=[''], verbosity=2, exit=False)"
   ]
  },
  {
   "cell_type": "code",
   "execution_count": null,
   "id": "5ce83512",
   "metadata": {},
   "outputs": [],
   "source": []
  }
 ],
 "metadata": {
  "kernelspec": {
   "display_name": "Python 3 (ipykernel)",
   "language": "python",
   "name": "python3"
  },
  "language_info": {
   "codemirror_mode": {
    "name": "ipython",
    "version": 3
   },
   "file_extension": ".py",
   "mimetype": "text/x-python",
   "name": "python",
   "nbconvert_exporter": "python",
   "pygments_lexer": "ipython3",
   "version": "3.9.12"
  }
 },
 "nbformat": 4,
 "nbformat_minor": 5
}
