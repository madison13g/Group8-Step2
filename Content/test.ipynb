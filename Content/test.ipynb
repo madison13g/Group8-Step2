{
 "cells": [
  {
   "cell_type": "code",
   "execution_count": 5,
   "id": "948fd9bd",
   "metadata": {},
   "outputs": [],
   "source": [
    "from topic import Topic\n",
    "from post import Post"
   ]
  },
  {
   "cell_type": "code",
   "execution_count": 8,
   "id": "212bf2b2",
   "metadata": {},
   "outputs": [],
   "source": [
    "user = 'ame'\n",
    "tp = Topic('DATA533', user)\n",
    "tp1 = Topic('DATA533 project', user)\n",
    "tp2 = Topic('DATA533 project step 1', user)\n",
    "tp.tag = 'DATA'\n",
    "tp1.tag = 'DATA'\n",
    "tp2.tag = 'DATA'\n",
    "# tp.related() # does not show the original topic"
   ]
  },
  {
   "cell_type": "code",
   "execution_count": 12,
   "id": "3cfce9c2-c736-463b-abe1-c8a743e1cba6",
   "metadata": {},
   "outputs": [
    {
     "ename": "TypeError",
     "evalue": "unsupported operand type(s) for -: 'str' and 'int'",
     "output_type": "error",
     "traceback": [
      "\u001b[1;31m---------------------------------------------------------------------------\u001b[0m",
      "\u001b[1;31mTypeError\u001b[0m                                 Traceback (most recent call last)",
      "Input \u001b[1;32mIn [12]\u001b[0m, in \u001b[0;36m<cell line: 1>\u001b[1;34m()\u001b[0m\n\u001b[1;32m----> 1\u001b[0m pt \u001b[38;5;241m=\u001b[39m \u001b[43mPost\u001b[49m\u001b[43m(\u001b[49m\u001b[38;5;124;43m'\u001b[39;49m\u001b[38;5;124;43mDATA533\u001b[39;49m\u001b[38;5;124;43m'\u001b[39;49m\u001b[43m,\u001b[49m\u001b[43m \u001b[49m\u001b[38;5;124;43m'\u001b[39;49m\u001b[38;5;124;43mproject due next Mon\u001b[39;49m\u001b[38;5;124;43m'\u001b[39;49m\u001b[43m,\u001b[49m\u001b[43m \u001b[49m\u001b[43muser\u001b[49m\u001b[43m)\u001b[49m\n",
      "File \u001b[1;32m~\\Block3\\DATA533Project\\DATA533-Project-Group8\\Content\\post.py:28\u001b[0m, in \u001b[0;36mPost.__init__\u001b[1;34m(self, topicid, detail, user)\u001b[0m\n\u001b[0;32m     15\u001b[0m \u001b[38;5;28;01mdef\u001b[39;00m \u001b[38;5;21m__init__\u001b[39m(\u001b[38;5;28mself\u001b[39m, topicid, detail, user):\n\u001b[0;32m     16\u001b[0m     \u001b[38;5;124;03m\"\"\"\u001b[39;00m\n\u001b[0;32m     17\u001b[0m \u001b[38;5;124;03m    Define the class post (inheritance Topic)\u001b[39;00m\n\u001b[0;32m     18\u001b[0m \u001b[38;5;124;03m    \u001b[39;00m\n\u001b[1;32m   (...)\u001b[0m\n\u001b[0;32m     26\u001b[0m \u001b[38;5;124;03m    pidL id of the post (unique)\u001b[39;00m\n\u001b[0;32m     27\u001b[0m \u001b[38;5;124;03m    \"\"\"\u001b[39;00m\n\u001b[1;32m---> 28\u001b[0m     topic \u001b[38;5;241m=\u001b[39m Topic\u001b[38;5;241m.\u001b[39mtopics_name[\u001b[43mtopicid\u001b[49m\u001b[38;5;241;43m-\u001b[39;49m\u001b[38;5;241;43m1\u001b[39;49m]\n\u001b[0;32m     29\u001b[0m     \u001b[38;5;28mself\u001b[39m\u001b[38;5;241m.\u001b[39mtid \u001b[38;5;241m=\u001b[39m topicid\n\u001b[0;32m     30\u001b[0m     Topic\u001b[38;5;241m.\u001b[39m\u001b[38;5;21m__init__\u001b[39m(\u001b[38;5;28mself\u001b[39m, topic, user\u001b[38;5;241m=\u001b[39m\u001b[38;5;124m'\u001b[39m\u001b[38;5;124m'\u001b[39m)\n",
      "\u001b[1;31mTypeError\u001b[0m: unsupported operand type(s) for -: 'str' and 'int'"
     ]
    }
   ],
   "source": [
    "pt = Post('DATA533', 'project due next Mon', user)\n",
    "#pt.show()"
   ]
  },
  {
   "cell_type": "code",
   "execution_count": 13,
   "id": "756a1578-de2a-470b-bce2-ccb59fff35d5",
   "metadata": {},
   "outputs": [
    {
     "ename": "NameError",
     "evalue": "name 'pt' is not defined",
     "output_type": "error",
     "traceback": [
      "\u001b[1;31m---------------------------------------------------------------------------\u001b[0m",
      "\u001b[1;31mNameError\u001b[0m                                 Traceback (most recent call last)",
      "Input \u001b[1;32mIn [13]\u001b[0m, in \u001b[0;36m<cell line: 1>\u001b[1;34m()\u001b[0m\n\u001b[1;32m----> 1\u001b[0m \u001b[43mpt\u001b[49m\u001b[38;5;241m.\u001b[39madd_comment(\u001b[38;5;124m'\u001b[39m\u001b[38;5;124mdue day changed\u001b[39m\u001b[38;5;124m'\u001b[39m)\n\u001b[0;32m      2\u001b[0m pt\u001b[38;5;241m.\u001b[39mshow()\n",
      "\u001b[1;31mNameError\u001b[0m: name 'pt' is not defined"
     ]
    }
   ],
   "source": [
    "pt.add_comment('due day changed')\n",
    "pt.show()"
   ]
  },
  {
   "cell_type": "code",
   "execution_count": 5,
   "id": "86b97a4e-0daf-4278-9742-8df57e0b2a16",
   "metadata": {},
   "outputs": [
    {
     "data": {
      "text/plain": [
       "'This post has 1 like and 1 comments.'"
      ]
     },
     "execution_count": 5,
     "metadata": {},
     "output_type": "execute_result"
    }
   ],
   "source": [
    "pt.add_like()\n",
    "pt.check()"
   ]
  },
  {
   "cell_type": "code",
   "execution_count": 6,
   "id": "2f36ab55-b73c-457e-a891-967c6c1a6f98",
   "metadata": {},
   "outputs": [
    {
     "data": {
      "text/plain": [
       "'This post has 2 like and 1 comments.'"
      ]
     },
     "execution_count": 6,
     "metadata": {},
     "output_type": "execute_result"
    }
   ],
   "source": [
    "pt.add_like()\n",
    "pt.check()"
   ]
  },
  {
   "cell_type": "code",
   "execution_count": 7,
   "id": "aac14ee2-bb0b-485f-ad58-c6335fc18f72",
   "metadata": {},
   "outputs": [
    {
     "name": "stdout",
     "output_type": "stream",
     "text": [
      "Topic: DATA533\n",
      "project due next Mon\n",
      "-----\n",
      "Comments: \n",
      "due day changed\n",
      "got more time\n"
     ]
    },
    {
     "data": {
      "text/plain": [
       "'This post has 2 like and 2 comments.'"
      ]
     },
     "execution_count": 7,
     "metadata": {},
     "output_type": "execute_result"
    }
   ],
   "source": [
    "pt.add_comment('got more time')\n",
    "pt.show()\n",
    "pt.check()"
   ]
  },
  {
   "cell_type": "code",
   "execution_count": null,
   "id": "daaa999f-f99c-4801-823b-9acbe7bbbca4",
   "metadata": {},
   "outputs": [],
   "source": []
  }
 ],
 "metadata": {
  "kernelspec": {
   "display_name": "Python 3 (ipykernel)",
   "language": "python",
   "name": "python3"
  },
  "language_info": {
   "codemirror_mode": {
    "name": "ipython",
    "version": 3
   },
   "file_extension": ".py",
   "mimetype": "text/x-python",
   "name": "python",
   "nbconvert_exporter": "python",
   "pygments_lexer": "ipython3",
   "version": "3.9.12"
  }
 },
 "nbformat": 4,
 "nbformat_minor": 5
}
