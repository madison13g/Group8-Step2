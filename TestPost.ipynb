{
 "cells": [
  {
   "cell_type": "code",
   "execution_count": 1,
   "id": "3800c3c6",
   "metadata": {},
   "outputs": [
    {
     "name": "stderr",
     "output_type": "stream",
     "text": [
      "test_add_comment (__main__.TestPost) ... ok\n",
      "test_add_like (__main__.TestPost) ... ok\n",
      "\n",
      "----------------------------------------------------------------------\n",
      "Ran 2 tests in 0.023s\n",
      "\n",
      "OK\n"
     ]
    },
    {
     "name": "stdout",
     "output_type": "stream",
     "text": [
      "set up Post\n",
      "Testing finished\n",
      "Testing finished\n",
      "tear down Post\n"
     ]
    },
    {
     "data": {
      "text/plain": [
       "<unittest.main.TestProgram at 0x7fe15e3af280>"
      ]
     },
     "execution_count": 1,
     "metadata": {},
     "output_type": "execute_result"
    }
   ],
   "source": [
    "import unittest\n",
    "from Content.post import *\n",
    "\n",
    "class TestPost(unittest.TestCase):\n",
    "    @classmethod\n",
    "    def setUpClass(Post):\n",
    "        print('set up Post')\n",
    "    \n",
    "    def setUp(self):\n",
    "        self.t1 = Post(10,'There are four quizzes next week.', 'Amethyst')\n",
    "        self.t2 = Post(10,'Winter break is coming!', 'Madison')\n",
    "        \n",
    "    def test_add_comment(self):\n",
    "        self.t1.add_comment('Review!!!')\n",
    "        self.t2.add_comment('Yeaaaaa!')\n",
    "        self.assertEqual(self.t1.comments, ['Review!!!'])\n",
    "        self.assertEqual(self.t2.comments, ['Yeaaaaa!'])\n",
    "        self.assertIsNotNone(self.t1.comments)\n",
    "        self.assertIsNotNone(self.t2.comments)\n",
    "    \n",
    "    def test_add_like(self):\n",
    "        self.t1.add_like()\n",
    "        self.t2.add_like(2)\n",
    "        self.assertEqual(self.t1.like, 1)\n",
    "        self.assertEqual(self.t2.like, 2)\n",
    "        self.assertIsNotNone(self.t1.like)\n",
    "        self.assertIsNotNone(self.t2.like)\n",
    "        \n",
    "    def tearDown(self):\n",
    "        print('Testing finished')\n",
    "        \n",
    "    @classmethod\n",
    "    def tearDownClass(Post):\n",
    "        print('tear down Post')\n",
    "        \n",
    "unittest.main(argv=[''], verbosity=2, exit=False)"
   ]
  },
  {
   "cell_type": "code",
   "execution_count": null,
   "id": "49a3ee1d",
   "metadata": {},
   "outputs": [],
   "source": []
  }
 ],
 "metadata": {
  "kernelspec": {
   "display_name": "Python 3 (ipykernel)",
   "language": "python",
   "name": "python3"
  },
  "language_info": {
   "codemirror_mode": {
    "name": "ipython",
    "version": 3
   },
   "file_extension": ".py",
   "mimetype": "text/x-python",
   "name": "python",
   "nbconvert_exporter": "python",
   "pygments_lexer": "ipython3",
   "version": "3.9.12"
  }
 },
 "nbformat": 4,
 "nbformat_minor": 5
}
