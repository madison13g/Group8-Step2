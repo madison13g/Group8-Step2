{
 "cells": [
  {
   "cell_type": "code",
   "execution_count": 1,
   "id": "1237d0ff",
   "metadata": {},
   "outputs": [
    {
     "name": "stderr",
     "output_type": "stream",
     "text": [
      "test_show (__main__.TestTopic) ... ok\n",
      "test_tag (__main__.TestTopic) ... ok\n",
      "\n",
      "----------------------------------------------------------------------\n",
      "Ran 2 tests in 0.007s\n",
      "\n",
      "OK\n"
     ]
    },
    {
     "name": "stdout",
     "output_type": "stream",
     "text": [
      "set up Topic\n",
      "Testing finished\n",
      "Testing finished\n",
      "tear down Topic\n"
     ]
    },
    {
     "data": {
      "text/plain": [
       "<unittest.main.TestProgram at 0x7fbf44c76a00>"
      ]
     },
     "execution_count": 1,
     "metadata": {},
     "output_type": "execute_result"
    }
   ],
   "source": [
    "import unittest\n",
    "from Content.topic import *\n",
    "\n",
    "class TestTopic(unittest.TestCase):\n",
    "    @classmethod\n",
    "    def setUpClass(Topic):\n",
    "        print('set up Topic')\n",
    "        \n",
    "    def setUp(self):\n",
    "        self.t1 = Topic('Quizzes','Amethyst')\n",
    "        self.t2 = Topic('Winter break','Madison')\n",
    "        \n",
    "    def test_tag(self):\n",
    "        self.t1.tag = 'MDS'\n",
    "        self.t2.tag = 'MDS'\n",
    "        self.assertEqual(self.t1.tag, 'MDS')\n",
    "        self.assertEqual(self.t2.tag, 'MDS')\n",
    "        self.assertIsNotNone(self.t1.tag)\n",
    "        self.assertIsNotNone(self.t2.tag)\n",
    "    \n",
    "    def test_show(self):\n",
    "        self.assertIsNotNone(self.t1.show())\n",
    "        self.assertIsNotNone(self.t2.show())\n",
    "        self.assertEqual(self.t1.show(), f'Topic id: 11 Topic name: Quizzes')\n",
    "        self.assertEqual(self.t2.show(), f'Topic id: 12 Topic name: Winter break')\n",
    "        \n",
    "    def tearDown(self):\n",
    "        print('Testing finished')\n",
    "        \n",
    "    @classmethod\n",
    "    def tearDownClass(Topic):\n",
    "        print('tear down Topic')\n",
    "        \n",
    "unittest.main(argv=[''], verbosity=2, exit=False)"
   ]
  },
  {
   "cell_type": "code",
   "execution_count": null,
   "id": "3b7c1f05",
   "metadata": {},
   "outputs": [],
   "source": []
  }
 ],
 "metadata": {
  "kernelspec": {
   "display_name": "Python 3 (ipykernel)",
   "language": "python",
   "name": "python3"
  },
  "language_info": {
   "codemirror_mode": {
    "name": "ipython",
    "version": 3
   },
   "file_extension": ".py",
   "mimetype": "text/x-python",
   "name": "python",
   "nbconvert_exporter": "python",
   "pygments_lexer": "ipython3",
   "version": "3.9.12"
  }
 },
 "nbformat": 4,
 "nbformat_minor": 5
}
