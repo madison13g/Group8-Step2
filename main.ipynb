{
 "cells": [
  {
   "cell_type": "code",
   "execution_count": 1,
   "id": "ecdae533-bf4b-489a-b623-8835744836ea",
   "metadata": {},
   "outputs": [],
   "source": [
    "from Person.user import *\n",
    "from Person.administrator import *\n",
    "from Content.topic import *\n",
    "from Content.post import *\n",
    "\n",
    "def checkid(category, num, maximum):\n",
    "    if num.isnumeric()==False:\n",
    "        print(f'[{category} id should be a number.]')\n",
    "        print('-'*20)\n",
    "        return False\n",
    "    elif int(num)<1 or int(num)>maximum:\n",
    "        print(f'[{category} not exists.]')\n",
    "        print('-'*20)\n",
    "        return False\n",
    "    return True"
   ]
  },
  {
   "cell_type": "code",
   "execution_count": 5,
   "id": "84ea10e5-3fae-4ddc-9cb7-39693717d37d",
   "metadata": {},
   "outputs": [
    {
     "name": "stdout",
     "output_type": "stream",
     "text": [
      "Welcome to MDS forum!\n"
     ]
    },
    {
     "name": "stdin",
     "output_type": "stream",
     "text": [
      "Would you like to login(1) or create an account(2)? Enter 1 or 2:  1\n",
      "Please enter your username:  Amethyst\n",
      "Please enter your password:  password4\n"
     ]
    },
    {
     "name": "stdout",
     "output_type": "stream",
     "text": [
      "Successfully logged in!\n",
      "Username: Amethyst\n",
      "Admin code: A2\n",
      "--------------------\n"
     ]
    },
    {
     "name": "stdin",
     "output_type": "stream",
     "text": [
      "1 Topics\n",
      "2 Posts\n",
      "3 User functions\n",
      "4 Exit\n",
      "Please choose action:  1\n"
     ]
    },
    {
     "name": "stdout",
     "output_type": "stream",
     "text": [
      "--------------------\n"
     ]
    },
    {
     "name": "stdin",
     "output_type": "stream",
     "text": [
      "1 Check all topics\n",
      "2 Search topic based on the tag\n",
      "3 Create a topic\n",
      "4 Exit\n",
      "Plesae choose action:  1\n"
     ]
    },
    {
     "name": "stdout",
     "output_type": "stream",
     "text": [
      "--------------------\n",
      "Current existing topics:\n",
      "Topic id: 1 Topic name: DATA533 Collaborative Software Development\n",
      "Topic id: 2 Topic name: DATA571 Resampling and Regularization\n",
      "Topic id: 3 Topic name: DATA532 Data Structure and Algorithm\n",
      "Topic id: 4 Topic name: DATA540 Databases and Data Retrievel\n",
      "Topic id: 5 Topic name: DATA570 Predictive Modelling\n",
      "Topic id: 6 Topic name: DATA543 Data Collection\n",
      "Topic id: 7 Topic name: DATA553 Privacy, Security and Professional Ethics\n",
      "Topic id: 8 Topic name: DATA533 Project\n",
      "Topic id: 9 Topic name: DATA533 Project Group 8\n",
      "Topic id: 10 Topic name: General\n",
      "--------------------\n"
     ]
    },
    {
     "name": "stdin",
     "output_type": "stream",
     "text": [
      "1 Topics\n",
      "2 Posts\n",
      "3 User functions\n",
      "4 Exit\n",
      "Please choose action:  2\n"
     ]
    },
    {
     "name": "stdout",
     "output_type": "stream",
     "text": [
      "--------------------\n"
     ]
    },
    {
     "name": "stdin",
     "output_type": "stream",
     "text": [
      "1 Check, Search\n",
      "2 Write, Like, Comment\n",
      "3 Exit\n",
      "Please choose action:  1\n"
     ]
    },
    {
     "name": "stdout",
     "output_type": "stream",
     "text": [
      "--------------------\n"
     ]
    },
    {
     "name": "stdin",
     "output_type": "stream",
     "text": [
      "1 Check all posts under a topic\n",
      "2 Search a post with keyword\n",
      "3 Exit\n",
      "Please choose action:  1\n"
     ]
    },
    {
     "name": "stdout",
     "output_type": "stream",
     "text": [
      "--------------------\n"
     ]
    },
    {
     "name": "stdin",
     "output_type": "stream",
     "text": [
      "Please enter a topic id:  2\n"
     ]
    },
    {
     "name": "stdout",
     "output_type": "stream",
     "text": [
      "Post id: 4\n",
      "Final quiz on December 21st. ----- by jeffandrews\n",
      "Comments: \n",
      "Includes MCQ and short answers.\n",
      "····················\n",
      "--------------------\n"
     ]
    },
    {
     "name": "stdin",
     "output_type": "stream",
     "text": [
      "1 Topics\n",
      "2 Posts\n",
      "3 User functions\n",
      "4 Exit\n",
      "Please choose action:  3\n"
     ]
    },
    {
     "name": "stdout",
     "output_type": "stream",
     "text": [
      "--------------------\n"
     ]
    },
    {
     "name": "stdin",
     "output_type": "stream",
     "text": [
      "1 Change password\n",
      "2 Admin\n",
      "3 Exit\n",
      "Please choose action:  2\n"
     ]
    },
    {
     "name": "stdout",
     "output_type": "stream",
     "text": [
      "--------------------\n"
     ]
    },
    {
     "name": "stdin",
     "output_type": "stream",
     "text": [
      "1 Check number of users\n",
      "2 List all users\n",
      "Please choose action:  2\n"
     ]
    },
    {
     "name": "stdout",
     "output_type": "stream",
     "text": [
      "--------------------\n",
      "Userid: 1 Username: madison13g\n",
      "Userid: 2 Username: amethyst1016\n",
      "Userid: 3 Username: khaladhasan\n",
      "Userid: 4 Username: jeffandrews\n",
      "Userid: 5 Username: christeldeas\n",
      "Userid: 6 Username: gemarodriguezperez\n",
      "Userid: 7 Username: ifeomaadaji\n",
      "Userid: 8 Username: johnthompson\n",
      "Userid: 9 Username: emeliegustafsson\n",
      "Userid: 10 Username: patricialassere\n",
      "Userid: 11 Username: Dan\n",
      "Userid: 12 Username: Amethyst\n",
      "Userid: 13 Username: Madison\n",
      "Userid: 14 Username: Abigail\n",
      "Userid: 15 Username: Linda\n",
      "Userid: 16 Username: Tom\n",
      "--------------------\n"
     ]
    },
    {
     "name": "stdin",
     "output_type": "stream",
     "text": [
      "1 Topics\n",
      "2 Posts\n",
      "3 User functions\n",
      "4 Exit\n",
      "Please choose action:  11\n"
     ]
    },
    {
     "name": "stdout",
     "output_type": "stream",
     "text": [
      "--------------------\n"
     ]
    }
   ],
   "source": [
    "print('Welcome to MDS forum!')\n",
    "choice1 = input('Would you like to login(1) or create an account(2)? Enter 1 or 2: ')\n",
    "if choice1 != '1' and choice1 != '2':\n",
    "    print('[Sorry, we do not have this choice.]')\n",
    "else:\n",
    "    # user login or register\n",
    "    cur_user = ''\n",
    "    if choice1 == '1':\n",
    "        username = input('Please enter your username: ')\n",
    "        if username in User.usernames:\n",
    "            idx = User.usernames.index(username)\n",
    "            cur_user = User.users[idx]\n",
    "            pwd = input('Please enter your password: ')\n",
    "            correct_pwd = cur_user.password\n",
    "            while pwd != correct_pwd:\n",
    "                pwd = input('[Incorrect password] Please try again: ')\n",
    "            print('Successfully logged in!')\n",
    "            print(cur_user.displayUser())\n",
    "    elif choice1 == '2':\n",
    "        new_user = input('Create a username: ')\n",
    "        while new_user in User.usernames:\n",
    "            new_user = input('Username has been taken, please enter another one: ')\n",
    "        new_pwd = input('Create a password: ')\n",
    "        cur_user = User(new_user, new_pwd)\n",
    "        print('Successfully created the account and logged in!')\n",
    "        print(cur_user.displayUser())\n",
    "\n",
    "    print('-'*20)\n",
    "\n",
    "    choice2 = input('1 Topics\\n2 Posts\\n3 User functions\\n4 Exit\\nPlease choose action: ')\n",
    "    print('-'*20)\n",
    "\n",
    "    while choice2 == '1' or choice2 == '2' or choice2 == '3':\n",
    "        tp_names = Topic.topics_name\n",
    "        tps = Topic.topics\n",
    "        # choose topics\n",
    "        if choice2 == '1':\n",
    "            choice3 = input('1 Check all topics\\n2 Search topic based on the tag\\n3 Create a topic\\n4 Exit\\nPlesae choose action: ')\n",
    "            print('-'*20)\n",
    "            if choice3 == '1':\n",
    "                print('Current existing topics:')\n",
    "                for i in tps:\n",
    "                    print(i.show())\n",
    "                print('-'*20)\n",
    "            elif choice3 == '2':\n",
    "                tag = input('Please enter a tag: ')\n",
    "                print(Topic.search(tag))\n",
    "                print('-'*20)\n",
    "            elif choice3 == '3':\n",
    "                topic = input('Enter a topic name: ')\n",
    "                print('-'*20)\n",
    "                if topic in tp_names:\n",
    "                    print('[This topic exists.]')\n",
    "                    print('-'*20)\n",
    "                else:\n",
    "                    tp = Topic(topic, cur_user.user)\n",
    "                    c = input('Do you want to add a tag for this topic? (Y/N)')\n",
    "                    if c.upper() == 'Y':\n",
    "                        tp.tag = input('Please enter a tag: ')\n",
    "        # choose posts\n",
    "        elif choice2 == '2':\n",
    "            choice3 = input('1 Check, Search\\n2 Write, Like, Comment\\n3 Exit\\nPlease choose action: ')\n",
    "            print('-'*20)\n",
    "            # choose check or search\n",
    "            if choice3 == '1':\n",
    "                choice4 = input('1 Check all posts under a topic\\n2 Search a post with keyword\\n3 Exit\\nPlease choose action: ')\n",
    "                print('-'*20)\n",
    "                # choose check\n",
    "                if choice4 == '1':\n",
    "                    num = input('Please enter a topic id: ')\n",
    "                    if checkid('Topic', num, len(tps)):\n",
    "                        Post.search_all_post(int(num))\n",
    "                        print('-'*20)\n",
    "                # choose search\n",
    "                elif choice4 == '2':\n",
    "                    keyword = input('Please enter a keyword: ')\n",
    "                    Post.search_post(keyword)\n",
    "                    print('-'*20)\n",
    "            # choose write, like or comment\n",
    "            elif choice3 == '2':\n",
    "                choice4 = input('1 Write a post\\n2 Like a post\\n3 Comment under a post\\n4 Exit\\nPlease choose action: ')\n",
    "                print('-'*20)\n",
    "                # choose write\n",
    "                if choice4 == '1':\n",
    "                    num = input(f'Please enter the topic id (1-{len(tps)}): ')\n",
    "                    print('-'*20)\n",
    "                    if checkid('Topic', num, len(tps)):\n",
    "                        word = input('Please enter the content of your post: ')\n",
    "                        Post(int(num), word, cur_user.user)\n",
    "                        print('-'*20)\n",
    "                # choose like or comment\n",
    "                elif choice4 == '2' or choice4 == '3':\n",
    "                    num = input(f'Please enter the post id (1-{len(Post.posts)}): ')\n",
    "                    print('-'*20)\n",
    "                    if checkid('Topic', num, len(Post.posts)):\n",
    "                        cur_post = Post.posts[int(num)-1]\n",
    "                        if choice4 == '2':\n",
    "                            cur_post.add_like()\n",
    "                        else:\n",
    "                            word = input('Please enter the comment: ')\n",
    "                            cur_post.add_comment(word)\n",
    "        # choose user functions\n",
    "        elif choice2 == '3':\n",
    "            choice3 = input('1 Change password\\n2 Admin\\n3 Exit\\nPlease choose action: ')\n",
    "            print('-'*20)\n",
    "            if choice3 == '1':\n",
    "                cur_user.password = input('Please enter your new password: ')\n",
    "                print('-'*20)\n",
    "            elif choice3 == '2':\n",
    "                if cur_user in Admin.admins:\n",
    "                    choice4 = input('1 Check number of users\\n2 List all users\\nPlease choose action: ')\n",
    "                    print('-'*20)\n",
    "                    if choice4 == '1':\n",
    "                        print(cur_user.displayCount())\n",
    "                        print('-'*20)\n",
    "                    elif choice4 == '2':\n",
    "                        cur_user.userlist()\n",
    "                        print('-'*20)\n",
    "                else:\n",
    "                    print('You are not a administrator.')\n",
    "                    print('-'*20)\n",
    "        choice2 = input('1 Topics\\n2 Posts\\n3 User functions\\n4 Exit\\nPlease choose action: ')\n",
    "        print('-'*20)"
   ]
  },
  {
   "cell_type": "code",
   "execution_count": null,
   "id": "2328d4f4-99ab-4876-8c28-9c6e3ac7f362",
   "metadata": {},
   "outputs": [],
   "source": []
  }
 ],
 "metadata": {
  "kernelspec": {
   "display_name": "Python 3 (ipykernel)",
   "language": "python",
   "name": "python3"
  },
  "language_info": {
   "codemirror_mode": {
    "name": "ipython",
    "version": 3
   },
   "file_extension": ".py",
   "mimetype": "text/x-python",
   "name": "python",
   "nbconvert_exporter": "python",
   "pygments_lexer": "ipython3",
   "version": "3.9.12"
  }
 },
 "nbformat": 4,
 "nbformat_minor": 5
}
