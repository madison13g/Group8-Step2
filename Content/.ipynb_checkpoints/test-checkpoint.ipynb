{
 "cells": [
  {
   "cell_type": "code",
   "execution_count": 1,
   "id": "948fd9bd",
   "metadata": {},
   "outputs": [],
   "source": [
    "from topic import Topic\n",
    "from post import Post"
   ]
  },
  {
   "cell_type": "code",
   "execution_count": 2,
   "id": "212bf2b2",
   "metadata": {},
   "outputs": [
    {
     "data": {
      "text/plain": [
       "['DATA533 project', 'DATA533 project step 1']"
      ]
     },
     "execution_count": 2,
     "metadata": {},
     "output_type": "execute_result"
    }
   ],
   "source": [
    "user = 'ame'\n",
    "tp = Topic('DATA533', user)\n",
    "tp1 = Topic('DATA533 project', user)\n",
    "tp2 = Topic('DATA533 project step 1', user)\n",
    "tp.tag = 'DATA'\n",
    "tp1.tag = 'DATA'\n",
    "tp2.tag = 'DATA'\n",
    "tp.related() # does not show the original topic"
   ]
  },
  {
   "cell_type": "code",
   "execution_count": 3,
   "id": "3cfce9c2-c736-463b-abe1-c8a743e1cba6",
   "metadata": {},
   "outputs": [
    {
     "name": "stdout",
     "output_type": "stream",
     "text": [
      "Topic: DATA533\n",
      "project due next Mon\n",
      "-----\n",
      "[Currently no comment.]\n"
     ]
    }
   ],
   "source": [
    "pt = Post('DATA533', 'project due next Mon', user)\n",
    "pt.show()"
   ]
  },
  {
   "cell_type": "code",
   "execution_count": 4,
   "id": "756a1578-de2a-470b-bce2-ccb59fff35d5",
   "metadata": {},
   "outputs": [
    {
     "name": "stdout",
     "output_type": "stream",
     "text": [
      "Topic: DATA533\n",
      "project due next Mon\n",
      "-----\n",
      "Comments: \n",
      "due day changed\n"
     ]
    }
   ],
   "source": [
    "pt.add_comment('due day changed')\n",
    "pt.show()"
   ]
  },
  {
   "cell_type": "code",
   "execution_count": 5,
   "id": "86b97a4e-0daf-4278-9742-8df57e0b2a16",
   "metadata": {},
   "outputs": [
    {
     "data": {
      "text/plain": [
       "'This post has 1 like and 1 comments.'"
      ]
     },
     "execution_count": 5,
     "metadata": {},
     "output_type": "execute_result"
    }
   ],
   "source": [
    "pt.add_like()\n",
    "pt.check()"
   ]
  },
  {
   "cell_type": "code",
   "execution_count": 6,
   "id": "2f36ab55-b73c-457e-a891-967c6c1a6f98",
   "metadata": {},
   "outputs": [
    {
     "data": {
      "text/plain": [
       "'This post has 2 like and 1 comments.'"
      ]
     },
     "execution_count": 6,
     "metadata": {},
     "output_type": "execute_result"
    }
   ],
   "source": [
    "pt.add_like()\n",
    "pt.check()"
   ]
  },
  {
   "cell_type": "code",
   "execution_count": 7,
   "id": "aac14ee2-bb0b-485f-ad58-c6335fc18f72",
   "metadata": {},
   "outputs": [
    {
     "name": "stdout",
     "output_type": "stream",
     "text": [
      "Topic: DATA533\n",
      "project due next Mon\n",
      "-----\n",
      "Comments: \n",
      "due day changed\n",
      "got more time\n"
     ]
    },
    {
     "data": {
      "text/plain": [
       "'This post has 2 like and 2 comments.'"
      ]
     },
     "execution_count": 7,
     "metadata": {},
     "output_type": "execute_result"
    }
   ],
   "source": [
    "pt.add_comment('got more time')\n",
    "pt.show()\n",
    "pt.check()"
   ]
  },
  {
   "cell_type": "code",
   "execution_count": null,
   "id": "daaa999f-f99c-4801-823b-9acbe7bbbca4",
   "metadata": {},
   "outputs": [],
   "source": []
  }
 ],
 "metadata": {
  "kernelspec": {
   "display_name": "Python 3 (ipykernel)",
   "language": "python",
   "name": "python3"
  },
  "language_info": {
   "codemirror_mode": {
    "name": "ipython",
    "version": 3
   },
   "file_extension": ".py",
   "mimetype": "text/x-python",
   "name": "python",
   "nbconvert_exporter": "python",
   "pygments_lexer": "ipython3",
   "version": "3.9.12"
  }
 },
 "nbformat": 4,
 "nbformat_minor": 5
}
