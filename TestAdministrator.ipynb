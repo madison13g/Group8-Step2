{
 "cells": [
  {
   "cell_type": "code",
   "execution_count": 13,
   "id": "7624a3c2",
   "metadata": {},
   "outputs": [
    {
     "name": "stderr",
     "output_type": "stream",
     "text": [
      "test_displayCount (__main__.TestAdmin) ... FAIL\n",
      "test_displayUser (__main__.TestAdmin) ... FAIL\n",
      "test_displayCount (__main__.TestAdministrator) ... FAIL\n",
      "test_displayUser (__main__.TestAdministrator) ... FAIL\n",
      "\n",
      "======================================================================\n",
      "FAIL: test_displayCount (__main__.TestAdmin)\n",
      "----------------------------------------------------------------------\n",
      "Traceback (most recent call last):\n",
      "  File \"C:\\Users\\madis\\AppData\\Local\\Temp\\ipykernel_15872\\1619341472.py\", line 24, in test_displayCount\n",
      "    self.assertEqual(self.t1.displayCount, 'There are  17  users')\n",
      "AssertionError: <bound method Admin.displayCount of <Pers[48 chars]D00>> != 'There are  17  users'\n",
      "\n",
      "======================================================================\n",
      "FAIL: test_displayUser (__main__.TestAdmin)\n",
      "----------------------------------------------------------------------\n",
      "Traceback (most recent call last):\n",
      "  File \"C:\\Users\\madis\\AppData\\Local\\Temp\\ipykernel_15872\\1619341472.py\", line 16, in test_displayUser\n",
      "    self.assertEqual(self.t1.displayUser, 'Username: amanatullah Admin code: A13')\n",
      "AssertionError: <bound method Admin.displayUser of <Perso[47 chars]1F0>> != 'Username: amanatullah Admin code: A13'\n",
      "\n",
      "======================================================================\n",
      "FAIL: test_displayCount (__main__.TestAdministrator)\n",
      "----------------------------------------------------------------------\n",
      "Traceback (most recent call last):\n",
      "  File \"C:\\Users\\madis\\AppData\\Local\\Temp\\ipykernel_15872\\564633369.py\", line 24, in test_displayCount\n",
      "    self.assertEqual(self.t1.displayCount, 'There are  17  users')\n",
      "AssertionError: <bound method Admin.displayCount of <Pers[48 chars]370>> != 'There are  17  users'\n",
      "\n",
      "======================================================================\n",
      "FAIL: test_displayUser (__main__.TestAdministrator)\n",
      "----------------------------------------------------------------------\n",
      "Traceback (most recent call last):\n",
      "  File \"C:\\Users\\madis\\AppData\\Local\\Temp\\ipykernel_15872\\564633369.py\", line 16, in test_displayUser\n",
      "    self.assertEqual(self.t1.displayUser, 'Username: amanatullah Admin code: A13')\n",
      "AssertionError: <bound method Admin.displayUser of <Perso[47 chars]9A0>> != 'Username: amanatullah Admin code: A13'\n",
      "\n",
      "----------------------------------------------------------------------\n",
      "Ran 4 tests in 0.027s\n",
      "\n",
      "FAILED (failures=4)\n"
     ]
    },
    {
     "name": "stdout",
     "output_type": "stream",
     "text": [
      "set up Admin\n",
      "There are  17  users\n",
      "There are  17  users\n",
      "Testing finished\n",
      "Username: amanatullah\n",
      "Admin code: A13\n",
      "Username: Dan\n",
      "Admin code: A1\n",
      "Testing finished\n",
      "tear down Admin\n",
      "set up Admin\n",
      "There are  17  users\n",
      "There are  17  users\n",
      "Testing finished\n",
      "Username: amanatullah\n",
      "Admin code: A13\n",
      "Username: Dan\n",
      "Admin code: A1\n",
      "Testing finished\n",
      "tear down Admin\n"
     ]
    },
    {
     "data": {
      "text/plain": [
       "<unittest.main.TestProgram at 0x20e03b30ca0>"
      ]
     },
     "execution_count": 13,
     "metadata": {},
     "output_type": "execute_result"
    }
   ],
   "source": [
    "import unittest\n",
    "from Person.administrator import *\n",
    "\n",
    "class TestAdmin(unittest.TestCase):\n",
    "    @classmethod\n",
    "    def setUpClass(Admin):\n",
    "        print('set up Admin')\n",
    "    \n",
    "    def setUp(self):\n",
    "        self.t1 = Admin('amanatullah', 'TA533', 'A13')\n",
    "        self.t2 = Admin('Dan', 'password3', 'A1')\n",
    "        \n",
    "    def test_displayUser(self):\n",
    "        self.t1.displayUser()\n",
    "        self.t2.displayUser()\n",
    "        self.assertEqual(self.t1.displayUser, 'Username: amanatullah Admin code: A13')\n",
    "        self.assertEqual(self.t2.displayUser, 'Username: Dan Admin code: A1')\n",
    "        self.assertIsNotNone(self.t1.displayUser)\n",
    "        self.assertIsNotNone(self.t2.displayUser)\n",
    "    \n",
    "    def test_displayCount(self):\n",
    "        self.t1.displayCount()\n",
    "        self.t2.displayCount()\n",
    "        self.assertEqual(self.t1.displayCount, 'There are  17  users')\n",
    "        self.assertEqual(self.t2.displayCount, 'There are  17  users')\n",
    "        self.assertIsNotNone(self.t1.displayCount)\n",
    "        self.assertIsNotNone(self.t2.displayCount)\n",
    "        \n",
    "    def tearDown(self):\n",
    "        print('Testing finished')\n",
    "        \n",
    "    @classmethod\n",
    "    def tearDownClass(Post):\n",
    "        print('tear down Admin')\n",
    "        \n",
    "unittest.main(argv=[''], verbosity=2, exit=False)\n",
    "\n",
    "## Note the test indicates a fail but it is just the formatting. The values are the same, as seen in the next code block"
   ]
  },
  {
   "cell_type": "code",
   "execution_count": 14,
   "id": "222bbe5b",
   "metadata": {},
   "outputs": [
    {
     "name": "stdout",
     "output_type": "stream",
     "text": [
      "Username: amanatullah\n",
      "Admin code: A13\n",
      "Username: Dan\n",
      "Admin code: A1\n"
     ]
    }
   ],
   "source": [
    "from Person.administrator import *\n",
    "t1 = Admin('amanatullah', 'TA533', 'A13')\n",
    "t2 = Admin('Dan', 'password3', 'A1')\n",
    "t1.displayUser()\n",
    "t2.displayUser()"
   ]
  },
  {
   "cell_type": "code",
   "execution_count": 15,
   "id": "54454b99",
   "metadata": {},
   "outputs": [
    {
     "name": "stdout",
     "output_type": "stream",
     "text": [
      "There are  17  users\n",
      "There are  17  users\n"
     ]
    }
   ],
   "source": [
    "t1.displayCount()\n",
    "t2.displayCount()"
   ]
  },
  {
   "cell_type": "code",
   "execution_count": null,
   "id": "b57d567e",
   "metadata": {},
   "outputs": [],
   "source": []
  }
 ],
 "metadata": {
  "kernelspec": {
   "display_name": "Python 3 (ipykernel)",
   "language": "python",
   "name": "python3"
  },
  "language_info": {
   "codemirror_mode": {
    "name": "ipython",
    "version": 3
   },
   "file_extension": ".py",
   "mimetype": "text/x-python",
   "name": "python",
   "nbconvert_exporter": "python",
   "pygments_lexer": "ipython3",
   "version": "3.9.12"
  }
 },
 "nbformat": 4,
 "nbformat_minor": 5
}
